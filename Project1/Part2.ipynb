{
  "nbformat": 4,
  "nbformat_minor": 0,
  "metadata": {
    "colab": {
      "name": "Part2.ipynb",
      "version": "0.3.2",
      "provenance": []
    },
    "kernelspec": {
      "name": "python3",
      "display_name": "Python 3"
    }
  },
  "cells": [
    {
      "cell_type": "code",
      "metadata": {
        "id": "ruiDQkgqIv9f",
        "colab_type": "code",
        "colab": {
          "base_uri": "https://localhost:8080/",
          "height": 33
        },
        "outputId": "d422ca2b-7906-4148-9e68-7f2c1413e5ce"
      },
      "source": [
        "from bs4 import BeautifulSoup\n",
        "import requests\n",
        "import pandas as pd\n",
        "\n",
        "source = requests.get('https://en.wikipedia.org/wiki/List_of_postal_codes_of_Canada:_M').text\n",
        "\n",
        "soup = BeautifulSoup(source,'lxml')\n",
        "\n",
        "# grabs table\n",
        "table = soup.find(\"table\", class_ = \"wikitable sortable\").tbody\n",
        "\n",
        "print('packages imported')"
      ],
      "execution_count": 1,
      "outputs": [
        {
          "output_type": "stream",
          "text": [
            "packages imported\n"
          ],
          "name": "stdout"
        }
      ]
    },
    {
      "cell_type": "code",
      "metadata": {
        "id": "lm4M7qOzI3sz",
        "colab_type": "code",
        "colab": {
          "base_uri": "https://localhost:8080/",
          "height": 345
        },
        "outputId": "df51bec7-9b92-4786-9b91-1d5163bf404a"
      },
      "source": [
        "rows = []\n",
        "for tr in table.find_all('tr'):\n",
        "    \n",
        "    tds = tr.find_all('td')\n",
        "    row = []\n",
        "    \n",
        "    for td in tds:\n",
        "        row.append(td.text.rstrip())\n",
        "    \n",
        "    \n",
        "    if (len(row) == 0) or row[1] == 'Not assigned':\n",
        "        pass\n",
        "    \n",
        "    else:\n",
        "      \n",
        "      if row[2] == 'Not assigned':\n",
        "        row[2] = row[1]\n",
        "      \n",
        "      rows.append(row)\n",
        "      \n",
        "\n",
        "old_df = pd.DataFrame(rows, columns = ['Postcode','Borough','Neighbourhood'])\n",
        "old_df.head(10)"
      ],
      "execution_count": 2,
      "outputs": [
        {
          "output_type": "execute_result",
          "data": {
            "text/html": [
              "<div>\n",
              "<style scoped>\n",
              "    .dataframe tbody tr th:only-of-type {\n",
              "        vertical-align: middle;\n",
              "    }\n",
              "\n",
              "    .dataframe tbody tr th {\n",
              "        vertical-align: top;\n",
              "    }\n",
              "\n",
              "    .dataframe thead th {\n",
              "        text-align: right;\n",
              "    }\n",
              "</style>\n",
              "<table border=\"1\" class=\"dataframe\">\n",
              "  <thead>\n",
              "    <tr style=\"text-align: right;\">\n",
              "      <th></th>\n",
              "      <th>Postcode</th>\n",
              "      <th>Borough</th>\n",
              "      <th>Neighbourhood</th>\n",
              "    </tr>\n",
              "  </thead>\n",
              "  <tbody>\n",
              "    <tr>\n",
              "      <th>0</th>\n",
              "      <td>M3A</td>\n",
              "      <td>North York</td>\n",
              "      <td>Parkwoods</td>\n",
              "    </tr>\n",
              "    <tr>\n",
              "      <th>1</th>\n",
              "      <td>M4A</td>\n",
              "      <td>North York</td>\n",
              "      <td>Victoria Village</td>\n",
              "    </tr>\n",
              "    <tr>\n",
              "      <th>2</th>\n",
              "      <td>M5A</td>\n",
              "      <td>Downtown Toronto</td>\n",
              "      <td>Harbourfront</td>\n",
              "    </tr>\n",
              "    <tr>\n",
              "      <th>3</th>\n",
              "      <td>M5A</td>\n",
              "      <td>Downtown Toronto</td>\n",
              "      <td>Regent Park</td>\n",
              "    </tr>\n",
              "    <tr>\n",
              "      <th>4</th>\n",
              "      <td>M6A</td>\n",
              "      <td>North York</td>\n",
              "      <td>Lawrence Heights</td>\n",
              "    </tr>\n",
              "    <tr>\n",
              "      <th>5</th>\n",
              "      <td>M6A</td>\n",
              "      <td>North York</td>\n",
              "      <td>Lawrence Manor</td>\n",
              "    </tr>\n",
              "    <tr>\n",
              "      <th>6</th>\n",
              "      <td>M7A</td>\n",
              "      <td>Queen's Park</td>\n",
              "      <td>Queen's Park</td>\n",
              "    </tr>\n",
              "    <tr>\n",
              "      <th>7</th>\n",
              "      <td>M9A</td>\n",
              "      <td>Etobicoke</td>\n",
              "      <td>Islington Avenue</td>\n",
              "    </tr>\n",
              "    <tr>\n",
              "      <th>8</th>\n",
              "      <td>M1B</td>\n",
              "      <td>Scarborough</td>\n",
              "      <td>Rouge</td>\n",
              "    </tr>\n",
              "    <tr>\n",
              "      <th>9</th>\n",
              "      <td>M1B</td>\n",
              "      <td>Scarborough</td>\n",
              "      <td>Malvern</td>\n",
              "    </tr>\n",
              "  </tbody>\n",
              "</table>\n",
              "</div>"
            ],
            "text/plain": [
              "  Postcode           Borough     Neighbourhood\n",
              "0      M3A        North York         Parkwoods\n",
              "1      M4A        North York  Victoria Village\n",
              "2      M5A  Downtown Toronto      Harbourfront\n",
              "3      M5A  Downtown Toronto       Regent Park\n",
              "4      M6A        North York  Lawrence Heights\n",
              "5      M6A        North York    Lawrence Manor\n",
              "6      M7A      Queen's Park      Queen's Park\n",
              "7      M9A         Etobicoke  Islington Avenue\n",
              "8      M1B       Scarborough             Rouge\n",
              "9      M1B       Scarborough           Malvern"
            ]
          },
          "metadata": {
            "tags": []
          },
          "execution_count": 2
        }
      ]
    },
    {
      "cell_type": "code",
      "metadata": {
        "id": "-Y16lvkiI5Uo",
        "colab_type": "code",
        "colab": {}
      },
      "source": [
        "def get_index(data, postcode):\n",
        "  for i in range(len(data)):\n",
        "    if data[i][0] == postcode:\n",
        "      return i\n",
        "  return None"
      ],
      "execution_count": 0,
      "outputs": []
    },
    {
      "cell_type": "code",
      "metadata": {
        "id": "1W75DMvRI7xA",
        "colab_type": "code",
        "colab": {}
      },
      "source": [
        "#traverse the old dataframe\n",
        "new_df = []\n",
        "for i in range(len(old_df)):\n",
        "  \n",
        "  code = old_df.iloc[i,0] #code to look for\n",
        "  index = get_index(new_df,code) #index of the code (if present)\n",
        "  \n",
        "  #print(code)\n",
        "  #print(index)\n",
        "  \n",
        "  temp = old_df.iloc[i,:].to_list() #extract row from existing dataframe \n",
        "  #print(temp)\n",
        "  \n",
        "  if index != None:\n",
        "    #postcode is already present in the new dataframe\n",
        "    neigh = temp[2] #get the neighborhood \n",
        "    new_df[index][2] = new_df[index][2] + \",\" + neigh # add neighborhood\n",
        "    \n",
        "  else:\n",
        "    new_df.append(temp)\n"
      ],
      "execution_count": 0,
      "outputs": []
    },
    {
      "cell_type": "code",
      "metadata": {
        "id": "tsoai76yI-Bb",
        "colab_type": "code",
        "colab": {
          "base_uri": "https://localhost:8080/",
          "height": 196
        },
        "outputId": "3d1dbb12-ed6c-4ac7-abc9-97c7c8824332"
      },
      "source": [
        "new_data = pd.DataFrame(new_df, columns = ['PostalCode','Borough','Neighborhood'])\n",
        "new_data.sort_values(by=['PostalCode'], ascending = True, inplace = True)\n",
        "new_data = new_data.reset_index().drop(['index'],axis = 1)\n",
        "\n",
        "new_data.head()"
      ],
      "execution_count": 5,
      "outputs": [
        {
          "output_type": "execute_result",
          "data": {
            "text/html": [
              "<div>\n",
              "<style scoped>\n",
              "    .dataframe tbody tr th:only-of-type {\n",
              "        vertical-align: middle;\n",
              "    }\n",
              "\n",
              "    .dataframe tbody tr th {\n",
              "        vertical-align: top;\n",
              "    }\n",
              "\n",
              "    .dataframe thead th {\n",
              "        text-align: right;\n",
              "    }\n",
              "</style>\n",
              "<table border=\"1\" class=\"dataframe\">\n",
              "  <thead>\n",
              "    <tr style=\"text-align: right;\">\n",
              "      <th></th>\n",
              "      <th>PostalCode</th>\n",
              "      <th>Borough</th>\n",
              "      <th>Neighborhood</th>\n",
              "    </tr>\n",
              "  </thead>\n",
              "  <tbody>\n",
              "    <tr>\n",
              "      <th>0</th>\n",
              "      <td>M1B</td>\n",
              "      <td>Scarborough</td>\n",
              "      <td>Rouge,Malvern</td>\n",
              "    </tr>\n",
              "    <tr>\n",
              "      <th>1</th>\n",
              "      <td>M1C</td>\n",
              "      <td>Scarborough</td>\n",
              "      <td>Highland Creek,Rouge Hill,Port Union</td>\n",
              "    </tr>\n",
              "    <tr>\n",
              "      <th>2</th>\n",
              "      <td>M1E</td>\n",
              "      <td>Scarborough</td>\n",
              "      <td>Guildwood,Morningside,West Hill</td>\n",
              "    </tr>\n",
              "    <tr>\n",
              "      <th>3</th>\n",
              "      <td>M1G</td>\n",
              "      <td>Scarborough</td>\n",
              "      <td>Woburn</td>\n",
              "    </tr>\n",
              "    <tr>\n",
              "      <th>4</th>\n",
              "      <td>M1H</td>\n",
              "      <td>Scarborough</td>\n",
              "      <td>Cedarbrae</td>\n",
              "    </tr>\n",
              "  </tbody>\n",
              "</table>\n",
              "</div>"
            ],
            "text/plain": [
              "  PostalCode      Borough                          Neighborhood\n",
              "0        M1B  Scarborough                         Rouge,Malvern\n",
              "1        M1C  Scarborough  Highland Creek,Rouge Hill,Port Union\n",
              "2        M1E  Scarborough       Guildwood,Morningside,West Hill\n",
              "3        M1G  Scarborough                                Woburn\n",
              "4        M1H  Scarborough                             Cedarbrae"
            ]
          },
          "metadata": {
            "tags": []
          },
          "execution_count": 5
        }
      ]
    },
    {
      "cell_type": "code",
      "metadata": {
        "id": "S6txpRNjI_0H",
        "colab_type": "code",
        "colab": {
          "base_uri": "https://localhost:8080/",
          "height": 33
        },
        "outputId": "8532ac44-ea01-4cdc-dd29-86580bf549e9"
      },
      "source": [
        "new_data.shape"
      ],
      "execution_count": 6,
      "outputs": [
        {
          "output_type": "execute_result",
          "data": {
            "text/plain": [
              "(103, 3)"
            ]
          },
          "metadata": {
            "tags": []
          },
          "execution_count": 6
        }
      ]
    },
    {
      "cell_type": "code",
      "metadata": {
        "id": "iHwBEyCaJB0l",
        "colab_type": "code",
        "colab": {
          "base_uri": "https://localhost:8080/",
          "height": 196
        },
        "outputId": "6b4f36c6-3af4-4b10-eadd-7dd25e06a27d"
      },
      "source": [
        "cordinates = pd.read_csv('https://cocl.us/Geospatial_data')\n",
        "cordinates.rename(columns = {'Postal Code':'PostalCode'}, inplace = True)\n",
        "cordinates.head()"
      ],
      "execution_count": 8,
      "outputs": [
        {
          "output_type": "execute_result",
          "data": {
            "text/html": [
              "<div>\n",
              "<style scoped>\n",
              "    .dataframe tbody tr th:only-of-type {\n",
              "        vertical-align: middle;\n",
              "    }\n",
              "\n",
              "    .dataframe tbody tr th {\n",
              "        vertical-align: top;\n",
              "    }\n",
              "\n",
              "    .dataframe thead th {\n",
              "        text-align: right;\n",
              "    }\n",
              "</style>\n",
              "<table border=\"1\" class=\"dataframe\">\n",
              "  <thead>\n",
              "    <tr style=\"text-align: right;\">\n",
              "      <th></th>\n",
              "      <th>PostalCode</th>\n",
              "      <th>Latitude</th>\n",
              "      <th>Longitude</th>\n",
              "    </tr>\n",
              "  </thead>\n",
              "  <tbody>\n",
              "    <tr>\n",
              "      <th>0</th>\n",
              "      <td>M1B</td>\n",
              "      <td>43.806686</td>\n",
              "      <td>-79.194353</td>\n",
              "    </tr>\n",
              "    <tr>\n",
              "      <th>1</th>\n",
              "      <td>M1C</td>\n",
              "      <td>43.784535</td>\n",
              "      <td>-79.160497</td>\n",
              "    </tr>\n",
              "    <tr>\n",
              "      <th>2</th>\n",
              "      <td>M1E</td>\n",
              "      <td>43.763573</td>\n",
              "      <td>-79.188711</td>\n",
              "    </tr>\n",
              "    <tr>\n",
              "      <th>3</th>\n",
              "      <td>M1G</td>\n",
              "      <td>43.770992</td>\n",
              "      <td>-79.216917</td>\n",
              "    </tr>\n",
              "    <tr>\n",
              "      <th>4</th>\n",
              "      <td>M1H</td>\n",
              "      <td>43.773136</td>\n",
              "      <td>-79.239476</td>\n",
              "    </tr>\n",
              "  </tbody>\n",
              "</table>\n",
              "</div>"
            ],
            "text/plain": [
              "  PostalCode   Latitude  Longitude\n",
              "0        M1B  43.806686 -79.194353\n",
              "1        M1C  43.784535 -79.160497\n",
              "2        M1E  43.763573 -79.188711\n",
              "3        M1G  43.770992 -79.216917\n",
              "4        M1H  43.773136 -79.239476"
            ]
          },
          "metadata": {
            "tags": []
          },
          "execution_count": 8
        }
      ]
    },
    {
      "cell_type": "code",
      "metadata": {
        "id": "TZ89F3iCJySd",
        "colab_type": "code",
        "colab": {
          "base_uri": "https://localhost:8080/",
          "height": 33
        },
        "outputId": "49fd0178-4723-4045-c18a-edbdb9324079"
      },
      "source": [
        "combined = pd.merge(new_data,cordinates, how = 'left', on = 'PostalCode')\n",
        "combined.shape"
      ],
      "execution_count": 9,
      "outputs": [
        {
          "output_type": "execute_result",
          "data": {
            "text/plain": [
              "(103, 5)"
            ]
          },
          "metadata": {
            "tags": []
          },
          "execution_count": 9
        }
      ]
    },
    {
      "cell_type": "code",
      "metadata": {
        "id": "pC1NbUcLJ9qd",
        "colab_type": "code",
        "colab": {
          "base_uri": "https://localhost:8080/",
          "height": 405
        },
        "outputId": "436ceae9-443d-4976-b930-d0b58561c7dd"
      },
      "source": [
        "combined.head(12)"
      ],
      "execution_count": 11,
      "outputs": [
        {
          "output_type": "execute_result",
          "data": {
            "text/html": [
              "<div>\n",
              "<style scoped>\n",
              "    .dataframe tbody tr th:only-of-type {\n",
              "        vertical-align: middle;\n",
              "    }\n",
              "\n",
              "    .dataframe tbody tr th {\n",
              "        vertical-align: top;\n",
              "    }\n",
              "\n",
              "    .dataframe thead th {\n",
              "        text-align: right;\n",
              "    }\n",
              "</style>\n",
              "<table border=\"1\" class=\"dataframe\">\n",
              "  <thead>\n",
              "    <tr style=\"text-align: right;\">\n",
              "      <th></th>\n",
              "      <th>PostalCode</th>\n",
              "      <th>Borough</th>\n",
              "      <th>Neighborhood</th>\n",
              "      <th>Latitude</th>\n",
              "      <th>Longitude</th>\n",
              "    </tr>\n",
              "  </thead>\n",
              "  <tbody>\n",
              "    <tr>\n",
              "      <th>0</th>\n",
              "      <td>M1B</td>\n",
              "      <td>Scarborough</td>\n",
              "      <td>Rouge,Malvern</td>\n",
              "      <td>43.806686</td>\n",
              "      <td>-79.194353</td>\n",
              "    </tr>\n",
              "    <tr>\n",
              "      <th>1</th>\n",
              "      <td>M1C</td>\n",
              "      <td>Scarborough</td>\n",
              "      <td>Highland Creek,Rouge Hill,Port Union</td>\n",
              "      <td>43.784535</td>\n",
              "      <td>-79.160497</td>\n",
              "    </tr>\n",
              "    <tr>\n",
              "      <th>2</th>\n",
              "      <td>M1E</td>\n",
              "      <td>Scarborough</td>\n",
              "      <td>Guildwood,Morningside,West Hill</td>\n",
              "      <td>43.763573</td>\n",
              "      <td>-79.188711</td>\n",
              "    </tr>\n",
              "    <tr>\n",
              "      <th>3</th>\n",
              "      <td>M1G</td>\n",
              "      <td>Scarborough</td>\n",
              "      <td>Woburn</td>\n",
              "      <td>43.770992</td>\n",
              "      <td>-79.216917</td>\n",
              "    </tr>\n",
              "    <tr>\n",
              "      <th>4</th>\n",
              "      <td>M1H</td>\n",
              "      <td>Scarborough</td>\n",
              "      <td>Cedarbrae</td>\n",
              "      <td>43.773136</td>\n",
              "      <td>-79.239476</td>\n",
              "    </tr>\n",
              "    <tr>\n",
              "      <th>5</th>\n",
              "      <td>M1J</td>\n",
              "      <td>Scarborough</td>\n",
              "      <td>Scarborough Village</td>\n",
              "      <td>43.744734</td>\n",
              "      <td>-79.239476</td>\n",
              "    </tr>\n",
              "    <tr>\n",
              "      <th>6</th>\n",
              "      <td>M1K</td>\n",
              "      <td>Scarborough</td>\n",
              "      <td>East Birchmount Park,Ionview,Kennedy Park</td>\n",
              "      <td>43.727929</td>\n",
              "      <td>-79.262029</td>\n",
              "    </tr>\n",
              "    <tr>\n",
              "      <th>7</th>\n",
              "      <td>M1L</td>\n",
              "      <td>Scarborough</td>\n",
              "      <td>Clairlea,Golden Mile,Oakridge</td>\n",
              "      <td>43.711112</td>\n",
              "      <td>-79.284577</td>\n",
              "    </tr>\n",
              "    <tr>\n",
              "      <th>8</th>\n",
              "      <td>M1M</td>\n",
              "      <td>Scarborough</td>\n",
              "      <td>Cliffcrest,Cliffside,Scarborough Village West</td>\n",
              "      <td>43.716316</td>\n",
              "      <td>-79.239476</td>\n",
              "    </tr>\n",
              "    <tr>\n",
              "      <th>9</th>\n",
              "      <td>M1N</td>\n",
              "      <td>Scarborough</td>\n",
              "      <td>Birch Cliff,Cliffside West</td>\n",
              "      <td>43.692657</td>\n",
              "      <td>-79.264848</td>\n",
              "    </tr>\n",
              "    <tr>\n",
              "      <th>10</th>\n",
              "      <td>M1P</td>\n",
              "      <td>Scarborough</td>\n",
              "      <td>Dorset Park,Scarborough Town Centre,Wexford He...</td>\n",
              "      <td>43.757410</td>\n",
              "      <td>-79.273304</td>\n",
              "    </tr>\n",
              "    <tr>\n",
              "      <th>11</th>\n",
              "      <td>M1R</td>\n",
              "      <td>Scarborough</td>\n",
              "      <td>Maryvale,Wexford</td>\n",
              "      <td>43.750072</td>\n",
              "      <td>-79.295849</td>\n",
              "    </tr>\n",
              "  </tbody>\n",
              "</table>\n",
              "</div>"
            ],
            "text/plain": [
              "   PostalCode      Borough  ...   Latitude  Longitude\n",
              "0         M1B  Scarborough  ...  43.806686 -79.194353\n",
              "1         M1C  Scarborough  ...  43.784535 -79.160497\n",
              "2         M1E  Scarborough  ...  43.763573 -79.188711\n",
              "3         M1G  Scarborough  ...  43.770992 -79.216917\n",
              "4         M1H  Scarborough  ...  43.773136 -79.239476\n",
              "5         M1J  Scarborough  ...  43.744734 -79.239476\n",
              "6         M1K  Scarborough  ...  43.727929 -79.262029\n",
              "7         M1L  Scarborough  ...  43.711112 -79.284577\n",
              "8         M1M  Scarborough  ...  43.716316 -79.239476\n",
              "9         M1N  Scarborough  ...  43.692657 -79.264848\n",
              "10        M1P  Scarborough  ...  43.757410 -79.273304\n",
              "11        M1R  Scarborough  ...  43.750072 -79.295849\n",
              "\n",
              "[12 rows x 5 columns]"
            ]
          },
          "metadata": {
            "tags": []
          },
          "execution_count": 11
        }
      ]
    },
    {
      "cell_type": "code",
      "metadata": {
        "id": "h3HbQ6jDJ_Yc",
        "colab_type": "code",
        "colab": {}
      },
      "source": [
        ""
      ],
      "execution_count": 0,
      "outputs": []
    }
  ]
}